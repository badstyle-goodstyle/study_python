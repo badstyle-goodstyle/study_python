{
  "nbformat": 4,
  "nbformat_minor": 0,
  "metadata": {
    "colab": {
      "provenance": [],
      "mount_file_id": "1GmULynOShVbMpDP27GjlKHmvQ5b97fbn",
      "authorship_tag": "ABX9TyOk6WpeSsmImDaJIL5De/vI",
      "include_colab_link": true
    },
    "kernelspec": {
      "name": "python3",
      "display_name": "Python 3"
    },
    "language_info": {
      "name": "python"
    }
  },
  "cells": [
    {
      "cell_type": "markdown",
      "metadata": {
        "id": "view-in-github",
        "colab_type": "text"
      },
      "source": [
        "<a href=\"https://colab.research.google.com/github/badstyle-goodstyle/study_python/blob/main/study_python1.ipynb\" target=\"_parent\"><img src=\"https://colab.research.google.com/assets/colab-badge.svg\" alt=\"Open In Colab\"/></a>"
      ]
    },
    {
      "cell_type": "markdown",
      "source": [
        "#Предисловие:\n",
        "*   **Выполнил**: Яковцев Дмитрий\n",
        "*   **Группа**: 4.206М-3\n",
        "*   **Задача**:  №3 (Вариант А)"
      ],
      "metadata": {
        "id": "NP24gaPJvs0N"
      }
    },
    {
      "cell_type": "markdown",
      "source": [
        "# **Блок**: pandas"
      ],
      "metadata": {
        "id": "TeDRJxjtweus"
      }
    },
    {
      "cell_type": "markdown",
      "source": [
        "### 1.1. среднее значение и медиану бега на 100 метров (мин, сек) по каждой возрастной группе (год рождения есть) по девочкам и мальчикам"
      ],
      "metadata": {
        "id": "ucmh_rKuw2Ic"
      }
    },
    {
      "cell_type": "code",
      "execution_count": null,
      "metadata": {
        "colab": {
          "base_uri": "https://localhost:8080/",
          "height": 35
        },
        "id": "or9gIVo9Y3mf",
        "outputId": "efaa64d7-6f9f-4ed7-ad56-b71e3296ab35"
      },
      "outputs": [
        {
          "output_type": "execute_result",
          "data": {
            "text/plain": [
              "'competition.csv'"
            ],
            "application/vnd.google.colaboratory.intrinsic+json": {
              "type": "string"
            }
          },
          "metadata": {},
          "execution_count": 7
        }
      ],
      "source": [
        "import pandas as pd\n",
        "import shutil\n",
        "\n",
        "shutil.copy(\"drive/MyDrive/study_python/competition_1.csv\", \"competition.csv\")"
      ]
    },
    {
      "cell_type": "code",
      "source": [
        "df = pd.read_csv(\"competition.csv\", sep=\";\")\n",
        "df.columns"
      ],
      "metadata": {
        "id": "MaqK7fKaas3q",
        "colab": {
          "base_uri": "https://localhost:8080/"
        },
        "outputId": "78d2e30c-7e72-47f0-fcba-504b7ea8a1b4"
      },
      "execution_count": null,
      "outputs": [
        {
          "output_type": "execute_result",
          "data": {
            "text/plain": [
              "Index(['Фамилия', 'Имя', 'Пол', 'Год рождения', 'Бег 1000 метров, мин. и сек.',\n",
              "       'Бег 30 метров, сек.', 'Прыжок в длину с места, см '],\n",
              "      dtype='object')"
            ]
          },
          "metadata": {},
          "execution_count": 24
        }
      ]
    },
    {
      "cell_type": "code",
      "source": [
        "df = df.rename(columns={'Фамилия': 'lastname',\n",
        "                        'Имя':'firstname',\n",
        "                        'Пол':'sex',\n",
        "                        'Год рождения': 'year',\n",
        "                        'Бег 1000 метров, мин. и сек.': 'running1000_time',\n",
        "                        'Бег 30 метров, сек.': 'running30_time',\n",
        "                        'Прыжок в длину с места, см ': 'jumping_height'})\n",
        "df.head(10)"
      ],
      "metadata": {
        "colab": {
          "base_uri": "https://localhost:8080/",
          "height": 363
        },
        "id": "6vbYFdH2gs94",
        "outputId": "181e8862-059f-472e-a5f1-c35d556bb127"
      },
      "execution_count": null,
      "outputs": [
        {
          "output_type": "execute_result",
          "data": {
            "text/plain": [
              "     lastname   firstname sex  year running1000_time running30_time  \\\n",
              "0   Абдуллаев       Денис   м  1998             3,42           4,72   \n",
              "1   Абдуллаев       Темур   м  1999             5,12           5,63   \n",
              "2  Абраменцев   Владислав   м  1997             5,52           5,42   \n",
              "3   Абсалямов        Илья   м  1999             5,43           4,92   \n",
              "4     Авдонин   Александр   м  1998             4,38           4,71   \n",
              "5    Авдышева       Елена   ж  1999             4,53            5,3   \n",
              "6    Авдюкова  Александра   ж  1998             5,02            5,3   \n",
              "7      Аверин     Дмитрий   м  1997             4,18            5,3   \n",
              "8   Автайкина        Анна   ж  1997             3,57           4,27   \n",
              "9    Агасарян   Александр   м  1999             4,37           5,39   \n",
              "\n",
              "   jumping_height  \n",
              "0             188  \n",
              "1             187  \n",
              "2             223  \n",
              "3             237  \n",
              "4             219  \n",
              "5             224  \n",
              "6             205  \n",
              "7             184  \n",
              "8             185  \n",
              "9             181  "
            ],
            "text/html": [
              "\n",
              "  <div id=\"df-3f794c35-c770-4ab0-944e-78db0945910a\">\n",
              "    <div class=\"colab-df-container\">\n",
              "      <div>\n",
              "<style scoped>\n",
              "    .dataframe tbody tr th:only-of-type {\n",
              "        vertical-align: middle;\n",
              "    }\n",
              "\n",
              "    .dataframe tbody tr th {\n",
              "        vertical-align: top;\n",
              "    }\n",
              "\n",
              "    .dataframe thead th {\n",
              "        text-align: right;\n",
              "    }\n",
              "</style>\n",
              "<table border=\"1\" class=\"dataframe\">\n",
              "  <thead>\n",
              "    <tr style=\"text-align: right;\">\n",
              "      <th></th>\n",
              "      <th>lastname</th>\n",
              "      <th>firstname</th>\n",
              "      <th>sex</th>\n",
              "      <th>year</th>\n",
              "      <th>running1000_time</th>\n",
              "      <th>running30_time</th>\n",
              "      <th>jumping_height</th>\n",
              "    </tr>\n",
              "  </thead>\n",
              "  <tbody>\n",
              "    <tr>\n",
              "      <th>0</th>\n",
              "      <td>Абдуллаев</td>\n",
              "      <td>Денис</td>\n",
              "      <td>м</td>\n",
              "      <td>1998</td>\n",
              "      <td>3,42</td>\n",
              "      <td>4,72</td>\n",
              "      <td>188</td>\n",
              "    </tr>\n",
              "    <tr>\n",
              "      <th>1</th>\n",
              "      <td>Абдуллаев</td>\n",
              "      <td>Темур</td>\n",
              "      <td>м</td>\n",
              "      <td>1999</td>\n",
              "      <td>5,12</td>\n",
              "      <td>5,63</td>\n",
              "      <td>187</td>\n",
              "    </tr>\n",
              "    <tr>\n",
              "      <th>2</th>\n",
              "      <td>Абраменцев</td>\n",
              "      <td>Владислав</td>\n",
              "      <td>м</td>\n",
              "      <td>1997</td>\n",
              "      <td>5,52</td>\n",
              "      <td>5,42</td>\n",
              "      <td>223</td>\n",
              "    </tr>\n",
              "    <tr>\n",
              "      <th>3</th>\n",
              "      <td>Абсалямов</td>\n",
              "      <td>Илья</td>\n",
              "      <td>м</td>\n",
              "      <td>1999</td>\n",
              "      <td>5,43</td>\n",
              "      <td>4,92</td>\n",
              "      <td>237</td>\n",
              "    </tr>\n",
              "    <tr>\n",
              "      <th>4</th>\n",
              "      <td>Авдонин</td>\n",
              "      <td>Александр</td>\n",
              "      <td>м</td>\n",
              "      <td>1998</td>\n",
              "      <td>4,38</td>\n",
              "      <td>4,71</td>\n",
              "      <td>219</td>\n",
              "    </tr>\n",
              "    <tr>\n",
              "      <th>5</th>\n",
              "      <td>Авдышева</td>\n",
              "      <td>Елена</td>\n",
              "      <td>ж</td>\n",
              "      <td>1999</td>\n",
              "      <td>4,53</td>\n",
              "      <td>5,3</td>\n",
              "      <td>224</td>\n",
              "    </tr>\n",
              "    <tr>\n",
              "      <th>6</th>\n",
              "      <td>Авдюкова</td>\n",
              "      <td>Александра</td>\n",
              "      <td>ж</td>\n",
              "      <td>1998</td>\n",
              "      <td>5,02</td>\n",
              "      <td>5,3</td>\n",
              "      <td>205</td>\n",
              "    </tr>\n",
              "    <tr>\n",
              "      <th>7</th>\n",
              "      <td>Аверин</td>\n",
              "      <td>Дмитрий</td>\n",
              "      <td>м</td>\n",
              "      <td>1997</td>\n",
              "      <td>4,18</td>\n",
              "      <td>5,3</td>\n",
              "      <td>184</td>\n",
              "    </tr>\n",
              "    <tr>\n",
              "      <th>8</th>\n",
              "      <td>Автайкина</td>\n",
              "      <td>Анна</td>\n",
              "      <td>ж</td>\n",
              "      <td>1997</td>\n",
              "      <td>3,57</td>\n",
              "      <td>4,27</td>\n",
              "      <td>185</td>\n",
              "    </tr>\n",
              "    <tr>\n",
              "      <th>9</th>\n",
              "      <td>Агасарян</td>\n",
              "      <td>Александр</td>\n",
              "      <td>м</td>\n",
              "      <td>1999</td>\n",
              "      <td>4,37</td>\n",
              "      <td>5,39</td>\n",
              "      <td>181</td>\n",
              "    </tr>\n",
              "  </tbody>\n",
              "</table>\n",
              "</div>\n",
              "      <button class=\"colab-df-convert\" onclick=\"convertToInteractive('df-3f794c35-c770-4ab0-944e-78db0945910a')\"\n",
              "              title=\"Convert this dataframe to an interactive table.\"\n",
              "              style=\"display:none;\">\n",
              "        \n",
              "  <svg xmlns=\"http://www.w3.org/2000/svg\" height=\"24px\"viewBox=\"0 0 24 24\"\n",
              "       width=\"24px\">\n",
              "    <path d=\"M0 0h24v24H0V0z\" fill=\"none\"/>\n",
              "    <path d=\"M18.56 5.44l.94 2.06.94-2.06 2.06-.94-2.06-.94-.94-2.06-.94 2.06-2.06.94zm-11 1L8.5 8.5l.94-2.06 2.06-.94-2.06-.94L8.5 2.5l-.94 2.06-2.06.94zm10 10l.94 2.06.94-2.06 2.06-.94-2.06-.94-.94-2.06-.94 2.06-2.06.94z\"/><path d=\"M17.41 7.96l-1.37-1.37c-.4-.4-.92-.59-1.43-.59-.52 0-1.04.2-1.43.59L10.3 9.45l-7.72 7.72c-.78.78-.78 2.05 0 2.83L4 21.41c.39.39.9.59 1.41.59.51 0 1.02-.2 1.41-.59l7.78-7.78 2.81-2.81c.8-.78.8-2.07 0-2.86zM5.41 20L4 18.59l7.72-7.72 1.47 1.35L5.41 20z\"/>\n",
              "  </svg>\n",
              "      </button>\n",
              "      \n",
              "  <style>\n",
              "    .colab-df-container {\n",
              "      display:flex;\n",
              "      flex-wrap:wrap;\n",
              "      gap: 12px;\n",
              "    }\n",
              "\n",
              "    .colab-df-convert {\n",
              "      background-color: #E8F0FE;\n",
              "      border: none;\n",
              "      border-radius: 50%;\n",
              "      cursor: pointer;\n",
              "      display: none;\n",
              "      fill: #1967D2;\n",
              "      height: 32px;\n",
              "      padding: 0 0 0 0;\n",
              "      width: 32px;\n",
              "    }\n",
              "\n",
              "    .colab-df-convert:hover {\n",
              "      background-color: #E2EBFA;\n",
              "      box-shadow: 0px 1px 2px rgba(60, 64, 67, 0.3), 0px 1px 3px 1px rgba(60, 64, 67, 0.15);\n",
              "      fill: #174EA6;\n",
              "    }\n",
              "\n",
              "    [theme=dark] .colab-df-convert {\n",
              "      background-color: #3B4455;\n",
              "      fill: #D2E3FC;\n",
              "    }\n",
              "\n",
              "    [theme=dark] .colab-df-convert:hover {\n",
              "      background-color: #434B5C;\n",
              "      box-shadow: 0px 1px 3px 1px rgba(0, 0, 0, 0.15);\n",
              "      filter: drop-shadow(0px 1px 2px rgba(0, 0, 0, 0.3));\n",
              "      fill: #FFFFFF;\n",
              "    }\n",
              "  </style>\n",
              "\n",
              "      <script>\n",
              "        const buttonEl =\n",
              "          document.querySelector('#df-3f794c35-c770-4ab0-944e-78db0945910a button.colab-df-convert');\n",
              "        buttonEl.style.display =\n",
              "          google.colab.kernel.accessAllowed ? 'block' : 'none';\n",
              "\n",
              "        async function convertToInteractive(key) {\n",
              "          const element = document.querySelector('#df-3f794c35-c770-4ab0-944e-78db0945910a');\n",
              "          const dataTable =\n",
              "            await google.colab.kernel.invokeFunction('convertToInteractive',\n",
              "                                                     [key], {});\n",
              "          if (!dataTable) return;\n",
              "\n",
              "          const docLinkHtml = 'Like what you see? Visit the ' +\n",
              "            '<a target=\"_blank\" href=https://colab.research.google.com/notebooks/data_table.ipynb>data table notebook</a>'\n",
              "            + ' to learn more about interactive tables.';\n",
              "          element.innerHTML = '';\n",
              "          dataTable['output_type'] = 'display_data';\n",
              "          await google.colab.output.renderOutput(dataTable, element);\n",
              "          const docLink = document.createElement('div');\n",
              "          docLink.innerHTML = docLinkHtml;\n",
              "          element.appendChild(docLink);\n",
              "        }\n",
              "      </script>\n",
              "    </div>\n",
              "  </div>\n",
              "  "
            ]
          },
          "metadata": {},
          "execution_count": 32
        }
      ]
    },
    {
      "cell_type": "code",
      "source": [
        "df2 = df.replace({'running1000_time': ',', 'running30_time': ','}, {'running1000_time': '.', 'running30_time': '.'}, regex=True)\n",
        "# convert just columns \"running1000_time\" and \"running30_time\" to numeric type\n",
        "df2[[\"running1000_time\", \"running30_time\"]] = df2[[\"running1000_time\", \"running30_time\"]].apply(pd.to_numeric)\n",
        "df2 = df2.assign(running1000_time = lambda x: round((divmod(x['running1000_time'], 1)[0]) * 60 + (divmod(x['running1000_time'], 1)[1]) * 5/3, 2))\n",
        "df2.head(10)"
      ],
      "metadata": {
        "colab": {
          "base_uri": "https://localhost:8080/",
          "height": 363
        },
        "id": "inIc-tdSnTYP",
        "outputId": "0194c72a-a94a-4998-897a-9b9a083a45dd"
      },
      "execution_count": null,
      "outputs": [
        {
          "output_type": "execute_result",
          "data": {
            "text/plain": [
              "     lastname   firstname sex  year  running1000_time  running30_time  \\\n",
              "0   Абдуллаев       Денис   м  1998            180.70            4.72   \n",
              "1   Абдуллаев       Темур   м  1999            300.20            5.63   \n",
              "2  Абраменцев   Владислав   м  1997            300.87            5.42   \n",
              "3   Абсалямов        Илья   м  1999            300.72            4.92   \n",
              "4     Авдонин   Александр   м  1998            240.63            4.71   \n",
              "5    Авдышева       Елена   ж  1999            240.88            5.30   \n",
              "6    Авдюкова  Александра   ж  1998            300.03            5.30   \n",
              "7      Аверин     Дмитрий   м  1997            240.30            5.30   \n",
              "8   Автайкина        Анна   ж  1997            180.95            4.27   \n",
              "9    Агасарян   Александр   м  1999            240.62            5.39   \n",
              "\n",
              "   jumping_height  \n",
              "0             188  \n",
              "1             187  \n",
              "2             223  \n",
              "3             237  \n",
              "4             219  \n",
              "5             224  \n",
              "6             205  \n",
              "7             184  \n",
              "8             185  \n",
              "9             181  "
            ],
            "text/html": [
              "\n",
              "  <div id=\"df-3ca677de-90ae-41d7-8ea5-becbc929bde7\">\n",
              "    <div class=\"colab-df-container\">\n",
              "      <div>\n",
              "<style scoped>\n",
              "    .dataframe tbody tr th:only-of-type {\n",
              "        vertical-align: middle;\n",
              "    }\n",
              "\n",
              "    .dataframe tbody tr th {\n",
              "        vertical-align: top;\n",
              "    }\n",
              "\n",
              "    .dataframe thead th {\n",
              "        text-align: right;\n",
              "    }\n",
              "</style>\n",
              "<table border=\"1\" class=\"dataframe\">\n",
              "  <thead>\n",
              "    <tr style=\"text-align: right;\">\n",
              "      <th></th>\n",
              "      <th>lastname</th>\n",
              "      <th>firstname</th>\n",
              "      <th>sex</th>\n",
              "      <th>year</th>\n",
              "      <th>running1000_time</th>\n",
              "      <th>running30_time</th>\n",
              "      <th>jumping_height</th>\n",
              "    </tr>\n",
              "  </thead>\n",
              "  <tbody>\n",
              "    <tr>\n",
              "      <th>0</th>\n",
              "      <td>Абдуллаев</td>\n",
              "      <td>Денис</td>\n",
              "      <td>м</td>\n",
              "      <td>1998</td>\n",
              "      <td>180.70</td>\n",
              "      <td>4.72</td>\n",
              "      <td>188</td>\n",
              "    </tr>\n",
              "    <tr>\n",
              "      <th>1</th>\n",
              "      <td>Абдуллаев</td>\n",
              "      <td>Темур</td>\n",
              "      <td>м</td>\n",
              "      <td>1999</td>\n",
              "      <td>300.20</td>\n",
              "      <td>5.63</td>\n",
              "      <td>187</td>\n",
              "    </tr>\n",
              "    <tr>\n",
              "      <th>2</th>\n",
              "      <td>Абраменцев</td>\n",
              "      <td>Владислав</td>\n",
              "      <td>м</td>\n",
              "      <td>1997</td>\n",
              "      <td>300.87</td>\n",
              "      <td>5.42</td>\n",
              "      <td>223</td>\n",
              "    </tr>\n",
              "    <tr>\n",
              "      <th>3</th>\n",
              "      <td>Абсалямов</td>\n",
              "      <td>Илья</td>\n",
              "      <td>м</td>\n",
              "      <td>1999</td>\n",
              "      <td>300.72</td>\n",
              "      <td>4.92</td>\n",
              "      <td>237</td>\n",
              "    </tr>\n",
              "    <tr>\n",
              "      <th>4</th>\n",
              "      <td>Авдонин</td>\n",
              "      <td>Александр</td>\n",
              "      <td>м</td>\n",
              "      <td>1998</td>\n",
              "      <td>240.63</td>\n",
              "      <td>4.71</td>\n",
              "      <td>219</td>\n",
              "    </tr>\n",
              "    <tr>\n",
              "      <th>5</th>\n",
              "      <td>Авдышева</td>\n",
              "      <td>Елена</td>\n",
              "      <td>ж</td>\n",
              "      <td>1999</td>\n",
              "      <td>240.88</td>\n",
              "      <td>5.30</td>\n",
              "      <td>224</td>\n",
              "    </tr>\n",
              "    <tr>\n",
              "      <th>6</th>\n",
              "      <td>Авдюкова</td>\n",
              "      <td>Александра</td>\n",
              "      <td>ж</td>\n",
              "      <td>1998</td>\n",
              "      <td>300.03</td>\n",
              "      <td>5.30</td>\n",
              "      <td>205</td>\n",
              "    </tr>\n",
              "    <tr>\n",
              "      <th>7</th>\n",
              "      <td>Аверин</td>\n",
              "      <td>Дмитрий</td>\n",
              "      <td>м</td>\n",
              "      <td>1997</td>\n",
              "      <td>240.30</td>\n",
              "      <td>5.30</td>\n",
              "      <td>184</td>\n",
              "    </tr>\n",
              "    <tr>\n",
              "      <th>8</th>\n",
              "      <td>Автайкина</td>\n",
              "      <td>Анна</td>\n",
              "      <td>ж</td>\n",
              "      <td>1997</td>\n",
              "      <td>180.95</td>\n",
              "      <td>4.27</td>\n",
              "      <td>185</td>\n",
              "    </tr>\n",
              "    <tr>\n",
              "      <th>9</th>\n",
              "      <td>Агасарян</td>\n",
              "      <td>Александр</td>\n",
              "      <td>м</td>\n",
              "      <td>1999</td>\n",
              "      <td>240.62</td>\n",
              "      <td>5.39</td>\n",
              "      <td>181</td>\n",
              "    </tr>\n",
              "  </tbody>\n",
              "</table>\n",
              "</div>\n",
              "      <button class=\"colab-df-convert\" onclick=\"convertToInteractive('df-3ca677de-90ae-41d7-8ea5-becbc929bde7')\"\n",
              "              title=\"Convert this dataframe to an interactive table.\"\n",
              "              style=\"display:none;\">\n",
              "        \n",
              "  <svg xmlns=\"http://www.w3.org/2000/svg\" height=\"24px\"viewBox=\"0 0 24 24\"\n",
              "       width=\"24px\">\n",
              "    <path d=\"M0 0h24v24H0V0z\" fill=\"none\"/>\n",
              "    <path d=\"M18.56 5.44l.94 2.06.94-2.06 2.06-.94-2.06-.94-.94-2.06-.94 2.06-2.06.94zm-11 1L8.5 8.5l.94-2.06 2.06-.94-2.06-.94L8.5 2.5l-.94 2.06-2.06.94zm10 10l.94 2.06.94-2.06 2.06-.94-2.06-.94-.94-2.06-.94 2.06-2.06.94z\"/><path d=\"M17.41 7.96l-1.37-1.37c-.4-.4-.92-.59-1.43-.59-.52 0-1.04.2-1.43.59L10.3 9.45l-7.72 7.72c-.78.78-.78 2.05 0 2.83L4 21.41c.39.39.9.59 1.41.59.51 0 1.02-.2 1.41-.59l7.78-7.78 2.81-2.81c.8-.78.8-2.07 0-2.86zM5.41 20L4 18.59l7.72-7.72 1.47 1.35L5.41 20z\"/>\n",
              "  </svg>\n",
              "      </button>\n",
              "      \n",
              "  <style>\n",
              "    .colab-df-container {\n",
              "      display:flex;\n",
              "      flex-wrap:wrap;\n",
              "      gap: 12px;\n",
              "    }\n",
              "\n",
              "    .colab-df-convert {\n",
              "      background-color: #E8F0FE;\n",
              "      border: none;\n",
              "      border-radius: 50%;\n",
              "      cursor: pointer;\n",
              "      display: none;\n",
              "      fill: #1967D2;\n",
              "      height: 32px;\n",
              "      padding: 0 0 0 0;\n",
              "      width: 32px;\n",
              "    }\n",
              "\n",
              "    .colab-df-convert:hover {\n",
              "      background-color: #E2EBFA;\n",
              "      box-shadow: 0px 1px 2px rgba(60, 64, 67, 0.3), 0px 1px 3px 1px rgba(60, 64, 67, 0.15);\n",
              "      fill: #174EA6;\n",
              "    }\n",
              "\n",
              "    [theme=dark] .colab-df-convert {\n",
              "      background-color: #3B4455;\n",
              "      fill: #D2E3FC;\n",
              "    }\n",
              "\n",
              "    [theme=dark] .colab-df-convert:hover {\n",
              "      background-color: #434B5C;\n",
              "      box-shadow: 0px 1px 3px 1px rgba(0, 0, 0, 0.15);\n",
              "      filter: drop-shadow(0px 1px 2px rgba(0, 0, 0, 0.3));\n",
              "      fill: #FFFFFF;\n",
              "    }\n",
              "  </style>\n",
              "\n",
              "      <script>\n",
              "        const buttonEl =\n",
              "          document.querySelector('#df-3ca677de-90ae-41d7-8ea5-becbc929bde7 button.colab-df-convert');\n",
              "        buttonEl.style.display =\n",
              "          google.colab.kernel.accessAllowed ? 'block' : 'none';\n",
              "\n",
              "        async function convertToInteractive(key) {\n",
              "          const element = document.querySelector('#df-3ca677de-90ae-41d7-8ea5-becbc929bde7');\n",
              "          const dataTable =\n",
              "            await google.colab.kernel.invokeFunction('convertToInteractive',\n",
              "                                                     [key], {});\n",
              "          if (!dataTable) return;\n",
              "\n",
              "          const docLinkHtml = 'Like what you see? Visit the ' +\n",
              "            '<a target=\"_blank\" href=https://colab.research.google.com/notebooks/data_table.ipynb>data table notebook</a>'\n",
              "            + ' to learn more about interactive tables.';\n",
              "          element.innerHTML = '';\n",
              "          dataTable['output_type'] = 'display_data';\n",
              "          await google.colab.output.renderOutput(dataTable, element);\n",
              "          const docLink = document.createElement('div');\n",
              "          docLink.innerHTML = docLinkHtml;\n",
              "          element.appendChild(docLink);\n",
              "        }\n",
              "      </script>\n",
              "    </div>\n",
              "  </div>\n",
              "  "
            ]
          },
          "metadata": {},
          "execution_count": 97
        }
      ]
    },
    {
      "cell_type": "code",
      "source": [
        "(df2.rename(columns={'year': 'год', 'sex': 'пол'})\n",
        "  .groupby(['год', 'пол'])\n",
        "  .agg({'running1000_time': ['mean', 'median']})\n",
        "  .rename(columns={'running1000_time': 'Бег, 1000 метров (по группам, в секундах)', 'mean': 'среднее (секунд)', 'median': 'медиана (секунд)'})\n",
        ")"
      ],
      "metadata": {
        "colab": {
          "base_uri": "https://localhost:8080/",
          "height": 363
        },
        "id": "EKLNJddLcizT",
        "outputId": "f1a295c8-52aa-4211-fe90-b6c775b06d78"
      },
      "execution_count": null,
      "outputs": [
        {
          "output_type": "execute_result",
          "data": {
            "text/plain": [
              "         Бег, 1000 метров (по группам, в секундах)                 \n",
              "                                  среднее (секунд) медиана (секунд)\n",
              "год  пол                                                           \n",
              "1996 ж                                  252.964809           240.75\n",
              "     м                                  256.536774           240.78\n",
              "1997 ж                                  253.060432           240.63\n",
              "     м                                  256.202812           240.80\n",
              "1998 ж                                  259.260854           240.87\n",
              "     м                                  257.707473           240.72\n",
              "1999 ж                                  258.039937           240.87\n",
              "     м                                  255.409794           240.78"
            ],
            "text/html": [
              "\n",
              "  <div id=\"df-1f68ffbc-1016-4cd2-b9d5-111ec7e465a0\">\n",
              "    <div class=\"colab-df-container\">\n",
              "      <div>\n",
              "<style scoped>\n",
              "    .dataframe tbody tr th:only-of-type {\n",
              "        vertical-align: middle;\n",
              "    }\n",
              "\n",
              "    .dataframe tbody tr th {\n",
              "        vertical-align: top;\n",
              "    }\n",
              "\n",
              "    .dataframe thead tr th {\n",
              "        text-align: left;\n",
              "    }\n",
              "\n",
              "    .dataframe thead tr:last-of-type th {\n",
              "        text-align: right;\n",
              "    }\n",
              "</style>\n",
              "<table border=\"1\" class=\"dataframe\">\n",
              "  <thead>\n",
              "    <tr>\n",
              "      <th></th>\n",
              "      <th></th>\n",
              "      <th colspan=\"2\" halign=\"left\">Бег, 1000 метров (по группам, в секундах)</th>\n",
              "    </tr>\n",
              "    <tr>\n",
              "      <th></th>\n",
              "      <th></th>\n",
              "      <th>среднее (секунд)</th>\n",
              "      <th>медиана (секунд)</th>\n",
              "    </tr>\n",
              "    <tr>\n",
              "      <th>год</th>\n",
              "      <th>пол</th>\n",
              "      <th></th>\n",
              "      <th></th>\n",
              "    </tr>\n",
              "  </thead>\n",
              "  <tbody>\n",
              "    <tr>\n",
              "      <th rowspan=\"2\" valign=\"top\">1996</th>\n",
              "      <th>ж</th>\n",
              "      <td>252.964809</td>\n",
              "      <td>240.75</td>\n",
              "    </tr>\n",
              "    <tr>\n",
              "      <th>м</th>\n",
              "      <td>256.536774</td>\n",
              "      <td>240.78</td>\n",
              "    </tr>\n",
              "    <tr>\n",
              "      <th rowspan=\"2\" valign=\"top\">1997</th>\n",
              "      <th>ж</th>\n",
              "      <td>253.060432</td>\n",
              "      <td>240.63</td>\n",
              "    </tr>\n",
              "    <tr>\n",
              "      <th>м</th>\n",
              "      <td>256.202812</td>\n",
              "      <td>240.80</td>\n",
              "    </tr>\n",
              "    <tr>\n",
              "      <th rowspan=\"2\" valign=\"top\">1998</th>\n",
              "      <th>ж</th>\n",
              "      <td>259.260854</td>\n",
              "      <td>240.87</td>\n",
              "    </tr>\n",
              "    <tr>\n",
              "      <th>м</th>\n",
              "      <td>257.707473</td>\n",
              "      <td>240.72</td>\n",
              "    </tr>\n",
              "    <tr>\n",
              "      <th rowspan=\"2\" valign=\"top\">1999</th>\n",
              "      <th>ж</th>\n",
              "      <td>258.039937</td>\n",
              "      <td>240.87</td>\n",
              "    </tr>\n",
              "    <tr>\n",
              "      <th>м</th>\n",
              "      <td>255.409794</td>\n",
              "      <td>240.78</td>\n",
              "    </tr>\n",
              "  </tbody>\n",
              "</table>\n",
              "</div>\n",
              "      <button class=\"colab-df-convert\" onclick=\"convertToInteractive('df-1f68ffbc-1016-4cd2-b9d5-111ec7e465a0')\"\n",
              "              title=\"Convert this dataframe to an interactive table.\"\n",
              "              style=\"display:none;\">\n",
              "        \n",
              "  <svg xmlns=\"http://www.w3.org/2000/svg\" height=\"24px\"viewBox=\"0 0 24 24\"\n",
              "       width=\"24px\">\n",
              "    <path d=\"M0 0h24v24H0V0z\" fill=\"none\"/>\n",
              "    <path d=\"M18.56 5.44l.94 2.06.94-2.06 2.06-.94-2.06-.94-.94-2.06-.94 2.06-2.06.94zm-11 1L8.5 8.5l.94-2.06 2.06-.94-2.06-.94L8.5 2.5l-.94 2.06-2.06.94zm10 10l.94 2.06.94-2.06 2.06-.94-2.06-.94-.94-2.06-.94 2.06-2.06.94z\"/><path d=\"M17.41 7.96l-1.37-1.37c-.4-.4-.92-.59-1.43-.59-.52 0-1.04.2-1.43.59L10.3 9.45l-7.72 7.72c-.78.78-.78 2.05 0 2.83L4 21.41c.39.39.9.59 1.41.59.51 0 1.02-.2 1.41-.59l7.78-7.78 2.81-2.81c.8-.78.8-2.07 0-2.86zM5.41 20L4 18.59l7.72-7.72 1.47 1.35L5.41 20z\"/>\n",
              "  </svg>\n",
              "      </button>\n",
              "      \n",
              "  <style>\n",
              "    .colab-df-container {\n",
              "      display:flex;\n",
              "      flex-wrap:wrap;\n",
              "      gap: 12px;\n",
              "    }\n",
              "\n",
              "    .colab-df-convert {\n",
              "      background-color: #E8F0FE;\n",
              "      border: none;\n",
              "      border-radius: 50%;\n",
              "      cursor: pointer;\n",
              "      display: none;\n",
              "      fill: #1967D2;\n",
              "      height: 32px;\n",
              "      padding: 0 0 0 0;\n",
              "      width: 32px;\n",
              "    }\n",
              "\n",
              "    .colab-df-convert:hover {\n",
              "      background-color: #E2EBFA;\n",
              "      box-shadow: 0px 1px 2px rgba(60, 64, 67, 0.3), 0px 1px 3px 1px rgba(60, 64, 67, 0.15);\n",
              "      fill: #174EA6;\n",
              "    }\n",
              "\n",
              "    [theme=dark] .colab-df-convert {\n",
              "      background-color: #3B4455;\n",
              "      fill: #D2E3FC;\n",
              "    }\n",
              "\n",
              "    [theme=dark] .colab-df-convert:hover {\n",
              "      background-color: #434B5C;\n",
              "      box-shadow: 0px 1px 3px 1px rgba(0, 0, 0, 0.15);\n",
              "      filter: drop-shadow(0px 1px 2px rgba(0, 0, 0, 0.3));\n",
              "      fill: #FFFFFF;\n",
              "    }\n",
              "  </style>\n",
              "\n",
              "      <script>\n",
              "        const buttonEl =\n",
              "          document.querySelector('#df-1f68ffbc-1016-4cd2-b9d5-111ec7e465a0 button.colab-df-convert');\n",
              "        buttonEl.style.display =\n",
              "          google.colab.kernel.accessAllowed ? 'block' : 'none';\n",
              "\n",
              "        async function convertToInteractive(key) {\n",
              "          const element = document.querySelector('#df-1f68ffbc-1016-4cd2-b9d5-111ec7e465a0');\n",
              "          const dataTable =\n",
              "            await google.colab.kernel.invokeFunction('convertToInteractive',\n",
              "                                                     [key], {});\n",
              "          if (!dataTable) return;\n",
              "\n",
              "          const docLinkHtml = 'Like what you see? Visit the ' +\n",
              "            '<a target=\"_blank\" href=https://colab.research.google.com/notebooks/data_table.ipynb>data table notebook</a>'\n",
              "            + ' to learn more about interactive tables.';\n",
              "          element.innerHTML = '';\n",
              "          dataTable['output_type'] = 'display_data';\n",
              "          await google.colab.output.renderOutput(dataTable, element);\n",
              "          const docLink = document.createElement('div');\n",
              "          docLink.innerHTML = docLinkHtml;\n",
              "          element.appendChild(docLink);\n",
              "        }\n",
              "      </script>\n",
              "    </div>\n",
              "  </div>\n",
              "  "
            ]
          },
          "metadata": {},
          "execution_count": 100
        }
      ]
    },
    {
      "cell_type": "markdown",
      "source": [
        "### 1.2. определить победителей (фамилии и имена детей) в каждой возрастной группе по мальчикам и по девочкам (3 первых места) по каждому виду. Учесть, что победителей может быть больше 3-х, так как результаты могут совпадать"
      ],
      "metadata": {
        "id": "tCuX8ajIxIHH"
      }
    },
    {
      "cell_type": "code",
      "source": [
        "import numpy as np\n",
        "# df3 = df2.nsmallest(100, 'running1000_time')[['lastname', 'firstname', 'running1000_time']]\n",
        "\n",
        "def find_top3_time(x, discipline: str, option: str):\n",
        "  data = set(x[discipline])\n",
        "  tmp_set = set()\n",
        "  if option == 'min':\n",
        "    top1_time = min(data)\n",
        "    tmp_set.add(top1_time)\n",
        "    top2_time = min(data.difference(tmp_set))\n",
        "    tmp_set.add(top2_time)\n",
        "    top3_time = min(data.difference(tmp_set))\n",
        "  elif option == 'max':\n",
        "    top1_time = max(data)\n",
        "    tmp_set.add(top1_time)\n",
        "    top2_time = max(data.difference(tmp_set))\n",
        "    tmp_set.add(top2_time)\n",
        "    top3_time = max(data.difference(tmp_set))\n",
        "  else:\n",
        "    top1_time = top2_time = top3_time = max(data)\n",
        "  return top1_time, top2_time, top3_time\n",
        "\n",
        "def find_top3_names(x, discipline, option):\n",
        "  top3_times = find_top3_time(x, discipline, option)\n",
        "  return (x[(x[discipline] == top3_times[0]) | \n",
        "          (x[discipline] == top3_times[1]) | \n",
        "          (x[discipline] == top3_times[2])]\n",
        "        [['lastname', 'firstname', 'year', discipline]]\n",
        "        .sort_values(by=[discipline, 'lastname']))\n",
        "\n",
        "def find_top3_places(x, discipline, option):\n",
        "  top3_times = find_top3_time(x, discipline, option)\n",
        "  conditions = [\n",
        "    (x[discipline] == top3_times[0]),\n",
        "    (x[discipline] == top3_times[1]),\n",
        "    (x[discipline] == top3_times[2])\n",
        "  ]\n",
        "  # create a list of the values we want to assign for each condition\n",
        "  values = ['I', 'II', 'III']\n",
        "\n",
        "  # create a new column and use np.select to assign values to it using our lists as arguments\n",
        "  x['place'] = np.select(conditions, values)\n",
        "  "
      ],
      "metadata": {
        "id": "FPjmJaz13psK"
      },
      "execution_count": null,
      "outputs": []
    },
    {
      "cell_type": "code",
      "source": [
        "def print_leaderboard(main_obj, discipline, sex):\n",
        "  if discipline == 'running1000_time':\n",
        "    option = 'min'\n",
        "  elif discipline == 'running30_time':\n",
        "    option = 'min'\n",
        "  elif discipline == 'jumping_height':\n",
        "    option = 'max'\n",
        "  else:\n",
        "    raise(Exception('Something went wrong'))\n",
        "  \n",
        "  df_obj = find_top3_names(main_obj[main_obj['sex'] == sex], discipline, option)\n",
        "  find_top3_places(df_obj, discipline, option)\n",
        "  df_obj = df_obj.rename(columns={\n",
        "      'lastname': 'Фамилия', \n",
        "      'firstname': 'Имя', \n",
        "      'year': 'Год',\n",
        "      'running1000_time': 'Бег 1000м. (сек.)', \n",
        "      'running30_time': 'Бег 30м. (сек.)',\n",
        "      'jumping_height': 'Прыжки в длину (см)',\n",
        "      'place': 'Место'})\n",
        "  print(df_obj)"
      ],
      "metadata": {
        "id": "tB5znHdblyfC"
      },
      "execution_count": null,
      "outputs": []
    },
    {
      "cell_type": "code",
      "source": [
        "print(\"Выборка по годам: \", set(df2[\"year\"]), \"\\n\")\n",
        "df_1996 = df2[df2[\"year\"] == 1996]\n",
        "\n",
        "print('Мужчины (бег, 1 км, 1996 год):')\n",
        "print_leaderboard(df_1996, 'running1000_time', 'м')\n",
        "print('\\nЖенщины (бег, 1км, 1996 год):')\n",
        "print_leaderboard(df_1996, 'running1000_time', 'ж')"
      ],
      "metadata": {
        "colab": {
          "base_uri": "https://localhost:8080/"
        },
        "id": "us6W3kBenMJi",
        "outputId": "f2a3058c-7c56-48d1-dbdc-67d12c62e292"
      },
      "execution_count": null,
      "outputs": [
        {
          "output_type": "stream",
          "name": "stdout",
          "text": [
            "Выборка по годам:  {1996, 1997, 1998, 1999} \n",
            "\n",
            "Мужчины (бег, 1 км, 1996 год):\n",
            "      Фамилия     Имя   Год  Бег 1000м. (сек.) Место\n",
            "144    Бурсов  Никита  1996             180.47     I\n",
            "101  Бессонов  Кирилл  1996             180.50    II\n",
            "129   Бохонов   Антон  1996             180.55   III\n",
            "\n",
            "Женщины (бег, 1км, 1996 год):\n",
            "          Фамилия        Имя   Год  Бег 1000м. (сек.) Место\n",
            "426       Коркина  Анастасия  1996             180.47     I\n",
            "333       Иванова       Анна  1996             180.50    II\n",
            "849  Трапезникова      Мария  1996             180.55   III\n"
          ]
        }
      ]
    },
    {
      "cell_type": "code",
      "source": [
        "print('Мужчины (бег, 30 м, общий зачет):')\n",
        "print_leaderboard(df2, 'running30_time', 'м')\n",
        "print('\\nЖенщины (бег, 30 м, общий зачет):')\n",
        "print_leaderboard(df2, 'running30_time', 'ж')"
      ],
      "metadata": {
        "colab": {
          "base_uri": "https://localhost:8080/"
        },
        "id": "2Bf676cEoc4D",
        "outputId": "8dcc5a03-3270-476c-dc18-b9ecb3828c37"
      },
      "execution_count": null,
      "outputs": [
        {
          "output_type": "stream",
          "name": "stdout",
          "text": [
            "Мужчины (бег, 30 м, общий зачет):\n",
            "      Фамилия        Имя   Год  Бег 30м. (сек.) Место\n",
            "245   Демидов      Антон  1997             4.01     I\n",
            "864   Уваркин    Тимофей  1999             4.01     I\n",
            "206  Горбатюк      Антон  1997             4.02    II\n",
            "482  Курбатов  Александр  1996             4.02    II\n",
            "817  Стукалов      Борис  1998             4.02    II\n",
            "148    Бывших      Рубен  1997             4.03   III\n",
            "676  Платонов   Гахраман  1996             4.03   III\n",
            "\n",
            "Женщины (бег, 30 м, общий зачет):\n",
            "       Фамилия        Имя   Год  Бег 30м. (сек.) Место\n",
            "22     Алимова  Екатерина  1997             4.00     I\n",
            "590   Морозова       Юлия  1997             4.01    II\n",
            "381  Керенцева    Наталия  1998             4.02   III\n",
            "784  Скоберева      Мария  1996             4.02   III\n",
            "919  Чегодаева      Алина  1996             4.02   III\n"
          ]
        }
      ]
    },
    {
      "cell_type": "code",
      "source": [
        "df_1999 = df2[df2[\"year\"] == 1999]\n",
        "print('Мужчины (прыжки, 1999 год):')\n",
        "print_leaderboard(df_1999, 'jumping_height', 'м')\n",
        "print('\\nЖенщины (прыжки, 1999 год):')\n",
        "print_leaderboard(df_1999, 'jumping_height', 'ж')"
      ],
      "metadata": {
        "colab": {
          "base_uri": "https://localhost:8080/"
        },
        "id": "sI-2Hjl6osF-",
        "outputId": "54f898c7-2b81-424a-bb04-867f2ecee0cb"
      },
      "execution_count": null,
      "outputs": [
        {
          "output_type": "stream",
          "name": "stdout",
          "text": [
            "Мужчины (прыжки, 1999 год):\n",
            "       Фамилия      Имя   Год  Прыжки в длину (см) Место\n",
            "285    Ермаков  Николай  1999                  234   III\n",
            "979     Шумари  Алексей  1999                  235    II\n",
            "3    Абсалямов     Илья  1999                  237     I\n",
            "690      Попов    Павел  1999                  237     I\n",
            "\n",
            "Женщины (прыжки, 1999 год):\n",
            "      Фамилия     Имя   Год  Прыжки в длину (см) Место\n",
            "42   Арбузова   Мария  1999                  234   III\n",
            "753  Сафонова  Полина  1999                  235    II\n",
            "119   Бойцова   Ольга  1999                  236     I\n"
          ]
        }
      ]
    },
    {
      "cell_type": "markdown",
      "source": [
        "### 1.3. определить в каждой возрастной группе девочек, которые по трём видам (по всем) испытаний входят в ТОП5"
      ],
      "metadata": {
        "id": "Aj8nWnD-xcfN"
      }
    },
    {
      "cell_type": "code",
      "source": [
        "def find_top5_time(x, discipline: str, option: str):\n",
        "  data = set(x[discipline])\n",
        "  tmp_set = set()\n",
        "  if option == 'min':\n",
        "    top1_time = min(data)\n",
        "    tmp_set.add(top1_time)\n",
        "    top2_time = min(data.difference(tmp_set))\n",
        "    tmp_set.add(top2_time)\n",
        "    top3_time = min(data.difference(tmp_set))\n",
        "    tmp_set.add(top3_time)\n",
        "    top4_time = min(data.difference(tmp_set))\n",
        "    tmp_set.add(top4_time)\n",
        "    top5_time = min(data.difference(tmp_set))\n",
        "  elif option == 'max':\n",
        "    top1_time = max(data)\n",
        "    tmp_set.add(top1_time)\n",
        "    top2_time = max(data.difference(tmp_set))\n",
        "    tmp_set.add(top2_time)\n",
        "    top3_time = max(data.difference(tmp_set))\n",
        "    tmp_set.add(top3_time)\n",
        "    top4_time = max(data.difference(tmp_set))\n",
        "    tmp_set.add(top4_time)\n",
        "    top5_time = max(data.difference(tmp_set))\n",
        "  else:\n",
        "    top1_time = top2_time = top3_time = top4_time = top5_time= max(data)\n",
        "  return top1_time, top2_time, top3_time, top4_time, top5_time\n",
        "\n",
        "def find_top5_names(x, discipline, option):\n",
        "  top5_times = find_top5_time(x, discipline, option)\n",
        "  return (x[(x[discipline] == top5_times[0]) | \n",
        "          (x[discipline] == top5_times[1]) | \n",
        "          (x[discipline] == top5_times[2]) |\n",
        "          (x[discipline] == top5_times[3]) |\n",
        "          (x[discipline] == top5_times[4])]\n",
        "        [['lastname', 'firstname', 'year', discipline]]\n",
        "        .sort_values(by=[discipline, 'lastname']))\n",
        "\n",
        "def find_top5_places(x, discipline, option):\n",
        "  top5_times = find_top5_time(x, discipline, option)\n",
        "  conditions = [\n",
        "    (x[discipline] == top5_times[0]),\n",
        "    (x[discipline] == top5_times[1]),\n",
        "    (x[discipline] == top5_times[2]),\n",
        "    (x[discipline] == top5_times[3]),\n",
        "    (x[discipline] == top5_times[4])\n",
        "  ]\n",
        "  # create a list of the values we want to assign for each condition\n",
        "  values = ['I', 'II', 'III', 'IV', 'V']\n",
        "\n",
        "  # create a new column and use np.select to assign values to it using our lists as arguments\n",
        "  x['place'] = np.select(conditions, values)"
      ],
      "metadata": {
        "id": "Xuzbc7na0lBf"
      },
      "execution_count": null,
      "outputs": []
    },
    {
      "cell_type": "code",
      "source": [
        "def get_leaderboard_5places(main_obj, discipline, sex):\n",
        "  if discipline == 'running1000_time':\n",
        "    option = 'min'\n",
        "  elif discipline == 'running30_time':\n",
        "    option = 'min'\n",
        "  elif discipline == 'jumping_height':\n",
        "    option = 'max'\n",
        "  else:\n",
        "    raise(Exception('Something went wrong'))\n",
        "  \n",
        "  df_obj = find_top5_names(main_obj[main_obj['sex'] == sex], discipline, option)\n",
        "  find_top5_places(df_obj, discipline, option)\n",
        "  return df_obj"
      ],
      "metadata": {
        "id": "xNbyWNRy2NSR"
      },
      "execution_count": null,
      "outputs": []
    },
    {
      "cell_type": "code",
      "source": [
        "df_1996_5places = df2[df2[\"year\"] == 1996]\n",
        "df_1997_5places = df2[df2[\"year\"] == 1997]\n",
        "df_1998_5places = df2[df2[\"year\"] == 1998]\n",
        "df_1999_5places = df2[df2[\"year\"] == 1999]\n",
        "df5_jh = [\n",
        "    get_leaderboard_5places(df_1996_5places, 'jumping_height', 'ж'),\n",
        "    get_leaderboard_5places(df_1997_5places, 'jumping_height', 'ж'),\n",
        "    get_leaderboard_5places(df_1998_5places, 'jumping_height', 'ж'),\n",
        "    get_leaderboard_5places(df_1999_5places, 'jumping_height', 'ж')\n",
        "    ]\n",
        "df5_r1000 = [\n",
        "    get_leaderboard_5places(df_1996_5places, 'running1000_time', 'ж'),\n",
        "    get_leaderboard_5places(df_1997_5places, 'running1000_time', 'ж'),\n",
        "    get_leaderboard_5places(df_1998_5places, 'running1000_time', 'ж'),\n",
        "    get_leaderboard_5places(df_1999_5places, 'running1000_time', 'ж')\n",
        "    ]\n",
        "df5_r30 = [\n",
        "    get_leaderboard_5places(df_1996_5places, 'running30_time', 'ж'),\n",
        "    get_leaderboard_5places(df_1997_5places, 'running30_time', 'ж'),\n",
        "    get_leaderboard_5places(df_1998_5places, 'running30_time', 'ж'),\n",
        "    get_leaderboard_5places(df_1999_5places, 'running30_time', 'ж')\n",
        "    ]\n",
        "\n",
        "\n",
        "print('\\nЖенщины (прыжки):')\n",
        "for data in df5_jh:\n",
        "  print(data, '\\n')\n",
        "\n",
        "print('\\nЖенщины (бег, 1 км):')\n",
        "for data in df5_r1000:\n",
        "  print(data, '\\n')\n",
        "\n",
        "print('\\nЖенщины (бег, 30 м):')\n",
        "for data in df5_r30:\n",
        "  print(data, '\\n')"
      ],
      "metadata": {
        "colab": {
          "base_uri": "https://localhost:8080/"
        },
        "id": "McTpW7Fz2brx",
        "outputId": "81c5d9de-4464-4174-ab7c-267aec5703fe"
      },
      "execution_count": null,
      "outputs": [
        {
          "output_type": "stream",
          "name": "stdout",
          "text": [
            "\n",
            "Женщины (прыжки):\n",
            "        lastname firstname  year  jumping_height place\n",
            "293     Ефремова     Ирина  1996             230     V\n",
            "792     Смирнова      Юлия  1996             231    IV\n",
            "302    Журавлева      Алла  1996             234   III\n",
            "307  Загидуллина     Лейли  1996             235    II\n",
            "816    Стукалина    Оксана  1996             235    II\n",
            "512      Логвина     Ирина  1996             236     I \n",
            "\n",
            "         lastname firstname  year  jumping_height place\n",
            "419       Коннова  Светлана  1997             229     V\n",
            "127     Бородкина   Наталья  1997             231    IV\n",
            "243         Деева    Ксения  1997             232   III\n",
            "811     Степанова     Мария  1997             233    II\n",
            "111       Боброва   Наталья  1997             234     I\n",
            "697  Приказчикова     Дарья  1997             234     I \n",
            "\n",
            "      lastname   firstname  year  jumping_height place\n",
            "90    Бачурина     Евгения  1998             229     V\n",
            "500   Леньшина  Александра  1998             229     V\n",
            "977   Шулыгина  Александра  1998             229     V\n",
            "190  Гапликова       Саяна  1998             230    IV\n",
            "371   Каримова   Анастасия  1998             230    IV\n",
            "468  Кузнецова        Юлия  1998             230    IV\n",
            "664    Петрова       Дарья  1998             230    IV\n",
            "611   Нефедова     Татьяна  1998             231   III\n",
            "662    Петрова   Анастасия  1998             234    II\n",
            "791   Смирнова       Олеся  1998             235     I\n",
            "844  Тишабаева     Надежда  1998             235     I \n",
            "\n",
            "     lastname  firstname  year  jumping_height place\n",
            "947  Шаламова    Евгения  1999             232     V\n",
            "353   Ишутина      Дария  1999             233    IV\n",
            "730  Русакова  Екатерина  1999             233    IV\n",
            "42   Арбузова      Мария  1999             234   III\n",
            "753  Сафонова     Полина  1999             235    II\n",
            "119   Бойцова      Ольга  1999             236     I \n",
            "\n",
            "\n",
            "Женщины (бег, 1 км):\n",
            "         lastname  firstname  year  running1000_time place\n",
            "426       Коркина  Анастасия  1996            180.47     I\n",
            "333       Иванова       Анна  1996            180.50    II\n",
            "849  Трапезникова      Мария  1996            180.55   III\n",
            "905      Ходжаева     Полина  1996            180.63    IV\n",
            "36      Андрякова      Ирина  1996            180.67     V\n",
            "50     Артамонова    Татьяна  1996            180.67     V\n",
            "297    Жданникова        Яна  1996            180.67     V \n",
            "\n",
            "      lastname  firstname  year  running1000_time place\n",
            "106   Бирюкова      Злата  1997            180.47     I\n",
            "185  Гайдамака  Екатерина  1997            180.47     I\n",
            "595    Мошкина    Татьяна  1997            180.47     I\n",
            "997   Яруллина    Татьяна  1997            180.50    II\n",
            "797   Соколова      Марта  1997            180.53   III\n",
            "179  Гаврилина    Наталья  1997            180.58    IV\n",
            "683   Полякова  Анастасия  1997            180.58    IV\n",
            "610   Нефедова  Анастасия  1997            180.63     V \n",
            "\n",
            "       lastname  firstname  year  running1000_time place\n",
            "451   Крутякова      Мария  1998            180.53     I\n",
            "25    Альмяшева  Елизавета  1998            180.55    II\n",
            "322  Золотарёва     Ксения  1998            180.58   III\n",
            "693  Поскакаева  Екатерина  1998            180.62    IV\n",
            "488    Лазурина  Анастасия  1998            180.67     V\n",
            "758    Себелева  Екатерина  1998            180.67     V \n",
            "\n",
            "        lastname  firstname  year  running1000_time place\n",
            "287     Ермолова       Анна  1999            180.47     I\n",
            "639       Орлова     Ксения  1999            180.53    II\n",
            "854     Троилина       Юлия  1999            180.53    II\n",
            "139    Бузовкина    Людмила  1999            180.55   III\n",
            "355  Кадыркулова      Ольга  1999            180.55   III\n",
            "628   Новосёлова      Алина  1999            180.55   III\n",
            "732     Русакова      Ольга  1999            180.58    IV\n",
            "989       Юршина   Настасья  1999            180.58    IV\n",
            "604       Негара  Анастасия  1999            180.67     V \n",
            "\n",
            "\n",
            "Женщины (бег, 30 м):\n",
            "      lastname firstname  year  running30_time place\n",
            "784  Скоберева     Мария  1996            4.02     I\n",
            "919  Чегодаева     Алина  1996            4.02     I\n",
            "431  Короткова     Софья  1996            4.12    II\n",
            "616   Никитина     Ольга  1996            4.12    II\n",
            "176   Воронина   Татьяна  1996            4.22   III\n",
            "302  Журавлева      Алла  1996            4.24    IV\n",
            "164    Витяева   Евгения  1996            4.27     V \n",
            "\n",
            "       lastname  firstname  year  running30_time place\n",
            "22      Алимова  Екатерина  1997            4.00     I\n",
            "590    Морозова       Юлия  1997            4.01    II\n",
            "244  Дементьева      Ольга  1997            4.05   III\n",
            "876     Ушакова   Виктория  1997            4.08    IV\n",
            "705      Пудова     Ксения  1997            4.12     V \n",
            "\n",
            "       lastname  firstname  year  running30_time place\n",
            "381   Керенцева    Наталия  1998            4.02     I\n",
            "602      Мухина  Анастасия  1998            4.06    II\n",
            "766    Семёнова      Елена  1998            4.14   III\n",
            "166     Власова  Анастасия  1998            4.15    IV\n",
            "868    Ульянова  Екатерина  1998            4.15    IV\n",
            "850  Третьякова    Евгения  1998            4.16     V \n",
            "\n",
            "      lastname   firstname  year  running30_time place\n",
            "477   Куликова       Дарья  1999            4.12     I\n",
            "889  Филиппова        Анна  1999            4.13    II\n",
            "339  Игнатьева       Мария  1999            4.21   III\n",
            "959     Шерина   Екатерина  1999            4.23    IV\n",
            "424  Копейцева  Александра  1999            4.26     V \n",
            "\n"
          ]
        }
      ]
    },
    {
      "cell_type": "code",
      "source": [
        "k = 0\n",
        "while (k< len(df5_jh)):\n",
        "  df6 = df5_jh[k].merge(df5_r1000[k].set_index('lastname'), on='lastname')\n",
        "  df7 = df5_jh[k].merge(df5_r30[k].set_index('lastname'), on='lastname')\n",
        "  df8 = df5_r30[k].merge(df5_r1000[k].set_index('lastname'), on='lastname')\n",
        "  if not df6.empty:\n",
        "    print(df6)\n",
        "  if not df7.empty:\n",
        "    print(df7)\n",
        "  if not df8.empty:\n",
        "    print(df8)\n",
        "  k+=1\n",
        "\n",
        "# df5_jh[0].set_index('lastname').join(df5_r1000[0].set_index('lastname'))\n",
        "print('У меня даже по 2 категориям девочки не совпадают...')"
      ],
      "metadata": {
        "colab": {
          "base_uri": "https://localhost:8080/"
        },
        "id": "ONPfyZaUCaXC",
        "outputId": "c64de8d9-452c-4f81-b8a7-6b8a3cf3a485"
      },
      "execution_count": null,
      "outputs": [
        {
          "output_type": "stream",
          "name": "stdout",
          "text": [
            "    lastname firstname_x  year_x  jumping_height place_x firstname_y  year_y  \\\n",
            "0  Журавлева        Алла    1996             234     III        Алла    1996   \n",
            "\n",
            "   running30_time place_y  \n",
            "0            4.24      IV  \n",
            "   lastname firstname_x  year_x  jumping_height place_x firstname_y  year_y  \\\n",
            "0  Русакова   Екатерина    1999             233      IV       Ольга    1999   \n",
            "\n",
            "   running1000_time place_y  \n",
            "0            180.58      IV  \n",
            "У меня даже по 2 категориям девочки не совпадают...\n"
          ]
        }
      ]
    },
    {
      "cell_type": "markdown",
      "source": [
        "# **Блок**: matplotlib"
      ],
      "metadata": {
        "id": "lEokIEOfxxfk"
      }
    },
    {
      "cell_type": "markdown",
      "source": [
        "### Создать две Фигуры для графиков, состоящий из нескольких областей (контейнеров). Тип и решаемая задача – любые"
      ],
      "metadata": {
        "id": "9npxRTw1x1Se"
      }
    },
    {
      "cell_type": "code",
      "source": [
        "available_years = list(set(df2[\"year\"]))\n",
        "my_obj = {}\n",
        "for next_year in available_years:\n",
        "  my_obj[next_year] = {\n",
        "    \"boys\": df2[(df2[\"year\"] == next_year) & (df2[\"sex\"] == 'м')].count()[\"year\"],\n",
        "    \"girls\": df2[(df2[\"year\"] == next_year) & (df2[\"sex\"] == 'ж')].count()[\"year\"],\n",
        "    \"r1000_mean\": round(df2[(df2[\"year\"] == next_year)].mean(numeric_only=True)[\"running1000_time\"], 2),\n",
        "    \"r30_mean\": round(df2[(df2[\"year\"] == next_year)].mean(numeric_only=True)[\"running30_time\"], 2),\n",
        "    \"jh_mean\": round(df2[(df2[\"year\"] == next_year)].mean(numeric_only=True)[\"jumping_height\"], 2)\n",
        "  }\n",
        "\n",
        "my_df = pd.DataFrame(my_obj).T\n",
        "print(my_df)\n",
        "print(my_obj)"
      ],
      "metadata": {
        "colab": {
          "base_uri": "https://localhost:8080/",
          "height": 141
        },
        "id": "R-Zt249nMWXR",
        "outputId": "78a77d90-9a00-40f8-90a8-7d65886ddcac"
      },
      "execution_count": 581,
      "outputs": [
        {
          "output_type": "stream",
          "name": "stdout",
          "text": [
            "       boys  girls  r1000_mean  r30_mean  jh_mean\n",
            "1996  124.0  131.0      254.70      5.07   205.53\n",
            "1997   96.0  139.0      254.34      5.16   203.83\n",
            "1998   91.0  164.0      258.71      5.09   203.29\n",
            "1999   97.0  158.0      257.04      5.25   205.02\n",
            "{1996: {'boys': 124, 'girls': 131, 'r1000_mean': 254.7, 'r30_mean': 5.07, 'jh_mean': 205.53}, 1997: {'boys': 96, 'girls': 139, 'r1000_mean': 254.34, 'r30_mean': 5.16, 'jh_mean': 203.83}, 1998: {'boys': 91, 'girls': 164, 'r1000_mean': 258.71, 'r30_mean': 5.09, 'jh_mean': 203.29}, 1999: {'boys': 97, 'girls': 158, 'r1000_mean': 257.04, 'r30_mean': 5.25, 'jh_mean': 205.02}}\n"
          ]
        }
      ]
    },
    {
      "cell_type": "code",
      "source": [
        "import matplotlib as mpl\n",
        "import matplotlib.pyplot as plt\n",
        "%matplotlib inline\n",
        "\n",
        "plt.style.use('classic')\n",
        "my_df.plot(kind='pie', y = \"boys\", labels = my_df[\"boys\"], figsize=(8, 8), title = \"Количество участников-мальчиков\")\n",
        "plt.legend(fontsize=10, title='Года: 1996-1999', loc=\"lower right\")"
      ],
      "metadata": {
        "colab": {
          "base_uri": "https://localhost:8080/",
          "height": 563
        },
        "id": "W9jssCgSmo2k",
        "outputId": "2c9c970e-cc43-436c-bfa4-ebde0bc28596"
      },
      "execution_count": 594,
      "outputs": [
        {
          "output_type": "execute_result",
          "data": {
            "text/plain": [
              "<matplotlib.legend.Legend at 0x7f4b699e4dc0>"
            ]
          },
          "metadata": {},
          "execution_count": 594
        },
        {
          "output_type": "display_data",
          "data": {
            "text/plain": [
              "<Figure size 640x640 with 1 Axes>"
            ],
            "image/png": "[encoded data removed]"
          },
          "metadata": {}
        }
      ]
    },
    {
      "cell_type": "code",
      "source": [
        "my_df.plot.bar(y = [\"boys\", \"girls\"], x = 'jh_mean', figsize=(8, 5), color = [\"#cfab9b\",\"#34abcc\"])\n",
        "plt.xticks(rotation=30) # поворот подписей по оси X\n",
        "plt.legend(fontsize=14, title='Пол', loc=\"upper left\") # параметры легенд\n",
        "plt.title(\"Распределение средней величины прыжка участников (по годам)\", y= 1.1)\n",
        "plt.show()"
      ],
      "metadata": {
        "colab": {
          "base_uri": "https://localhost:8080/",
          "height": 460
        },
        "id": "OQ0-nwRNnxzc",
        "outputId": "5da2bcca-b873-48a1-8675-cbcd7ce75e88"
      },
      "execution_count": 606,
      "outputs": [
        {
          "output_type": "display_data",
          "data": {
            "text/plain": [
              "<Figure size 640x400 with 1 Axes>"
            ],
            "image/png": "[encoded data removed]"
          },
          "metadata": {}
        }
      ]
    },
    {
      "cell_type": "markdown",
      "source": [
        "Создать две Фигуры для графиков, состоящий из нескольких областей (контейнеров). Тип и\n",
        "решаемая задача – любые"
      ],
      "metadata": {
        "id": "4jZ7NzsayAlA"
      }
    },
    {
      "cell_type": "markdown",
      "source": [
        "# **Блок**: seaborn"
      ],
      "metadata": {
        "id": "RqEXVXWYyGQ1"
      }
    },
    {
      "cell_type": "markdown",
      "source": [
        "### Создать три скрипичных диаграммы"
      ],
      "metadata": {
        "id": "atbP06u4yI90"
      }
    },
    {
      "cell_type": "code",
      "source": [
        "import seaborn as sns\n",
        "\n",
        "plt.figure(figsize=(5,5))\n",
        "sns.violinplot(x=\"sex\", y=\"jumping_height\", data=df2)\n",
        "plt.title(\"Прыжки. Зависимость длины прыжков от пола.\", y= 1.1)\n",
        "plt.grid(True)\n",
        "plt.show()"
      ],
      "metadata": {
        "colab": {
          "base_uri": "https://localhost:8080/",
          "height": 438
        },
        "id": "swzId5g8sX6k",
        "outputId": "9d8b6d04-42d2-4169-9baf-28978308dbc0"
      },
      "execution_count": 616,
      "outputs": [
        {
          "output_type": "display_data",
          "data": {
            "text/plain": [
              "<Figure size 400x400 with 1 Axes>"
            ],
            "image/png": "[encoded data removed]"
          },
          "metadata": {}
        }
      ]
    },
    {
      "cell_type": "code",
      "source": [
        "plt.figure(figsize=(5,5))\n",
        "sns.violinplot(x=\"year\", y=\"jumping_height\", data=df2)\n",
        "plt.title(\"Прыжки. Зависимость длины прыжков от года.\", y= 1.1)\n",
        "plt.grid(True)\n",
        "plt.show()"
      ],
      "metadata": {
        "colab": {
          "base_uri": "https://localhost:8080/",
          "height": 438
        },
        "id": "zV1iajIGs1tD",
        "outputId": "809c8112-f9cc-44a3-daa8-fbd061ae31af"
      },
      "execution_count": 617,
      "outputs": [
        {
          "output_type": "display_data",
          "data": {
            "text/plain": [
              "<Figure size 400x400 with 1 Axes>"
            ],
            "image/png": "[encoded data removed]"
          },
          "metadata": {}
        }
      ]
    },
    {
      "cell_type": "code",
      "source": [
        "plt.figure(figsize=(5,5))\n",
        "sns.violinplot(x=\"year\", y=\"sex\", data=df2)\n",
        "plt.title(\"Прыжки. Зависимость количества участников от года.\", y= 1.1)\n",
        "plt.grid(True)\n",
        "plt.show()"
      ],
      "metadata": {
        "colab": {
          "base_uri": "https://localhost:8080/",
          "height": 438
        },
        "id": "tx5lRz-vuAoe",
        "outputId": "4c5352f4-009e-4c67-a864-c18742aae97b"
      },
      "execution_count": 619,
      "outputs": [
        {
          "output_type": "display_data",
          "data": {
            "text/plain": [
              "<Figure size 400x400 with 1 Axes>"
            ],
            "image/png": "[encoded data removed]"
          },
          "metadata": {}
        }
      ]
    }
  ]
}